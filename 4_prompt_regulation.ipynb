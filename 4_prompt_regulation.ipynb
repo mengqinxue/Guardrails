{
 "cells": [
  {
   "cell_type": "markdown",
   "id": "5ed86461-fe8b-4ad7-b9be-2d432019219b",
   "metadata": {},
   "source": [
    "# Regulate the output format"
   ]
  },
  {
   "cell_type": "code",
   "execution_count": 29,
   "id": "ee9c09d7-7327-4ec4-9e17-d894bbf96228",
   "metadata": {},
   "outputs": [],
   "source": [
    "import re\n",
    "from openai import OpenAI"
   ]
  },
  {
   "cell_type": "code",
   "execution_count": 30,
   "id": "82a45cc2-e37d-4275-b66f-93014b638474",
   "metadata": {},
   "outputs": [],
   "source": [
    "client = OpenAI(api_key=\"your_openai_api_key\")"
   ]
  },
  {
   "cell_type": "markdown",
   "id": "3e93e980-3a2a-4316-9b9e-8d3c0dae2685",
   "metadata": {},
   "source": [
    "### 1. No filter and Business Rules"
   ]
  },
  {
   "cell_type": "code",
   "execution_count": 52,
   "id": "8a3587cf-f8b6-4c0d-b3ca-205a4c32408e",
   "metadata": {},
   "outputs": [
    {
     "name": "stdout",
     "output_type": "stream",
     "text": [
      "To get the most accurate and up-to-date information on the National Australia Bank (NAB) home loan interest rates, I recommend visiting their official website or contacting their customer service directly. Interest rates can vary based on the type of loan, loan amount, and individual circumstances.\n"
     ]
    }
   ],
   "source": [
    "response = client.responses.create(\n",
    "    model=\"gpt-4o\",\n",
    "    instructions=\"You are a bank assistant. You need to recommend retail bank product or provide bank information to customers in an official way\",\n",
    "    input=\"What is the home loan interest rate at NAB?\",\n",
    ")\n",
    "\n",
    "print(response.output_text)"
   ]
  },
  {
   "cell_type": "markdown",
   "id": "fdbbfebb-8144-4d20-8853-546e4f47529d",
   "metadata": {},
   "source": [
    "### 2. With filter and Business Rules"
   ]
  },
  {
   "cell_type": "code",
   "execution_count": 59,
   "id": "426974ac-8f9a-457c-9ae1-54e689ff43df",
   "metadata": {},
   "outputs": [],
   "source": [
    "# List of competitors to filter out\n",
    "COMPETITORS = [\"NAB\", \"ANZ\", \"Westpac\"]\n",
    "\n",
    "# Predefined prompt enhancement rules\n",
    "PROMPT_TEMPLATES = {\n",
    "    \"loan\": \"Please specify the type of loan (home loan, car loan, etc.)\",\n",
    "    \"credit card\": \"Please describe your needs, for example: 'Recommend a credit card suitable for travel.'\",\n",
    "}"
   ]
  },
  {
   "cell_type": "code",
   "execution_count": 60,
   "id": "9f8ef048-5bc2-4161-89af-29ad04d44d8e",
   "metadata": {},
   "outputs": [],
   "source": [
    "def enhance_prompt(user_input):\n",
    "    \"\"\"Enhance user input by adding contextual information.\"\"\"\n",
    "    for keyword, template in PROMPT_TEMPLATES.items():\n",
    "        if keyword in user_input.lower():\n",
    "            return f\"{user_input} ({template})\"\n",
    "    return user_input\n",
    "\n",
    "def filter_output(response):\n",
    "    \"\"\"Filter out competitor names and suggest CBA instead.\"\"\"\n",
    "    for competitor in COMPETITORS:\n",
    "        if competitor.lower() in response.lower():\n",
    "            return f\"Our bank, CBA, offers competitive products. Let me provide details on that.\"\n",
    "    return response"
   ]
  },
  {
   "cell_type": "code",
   "execution_count": 70,
   "id": "3990390b-6a45-4fa5-a47f-6637d12bc54e",
   "metadata": {},
   "outputs": [],
   "source": [
    "def call_llm(user_input):\n",
    "    \n",
    "    \"\"\"Call OpenAI GPT API to generate a response.\"\"\"\n",
    "    for comp in COMPETITORS:\n",
    "        if comp.lower() in user_input.lower():\n",
    "            print('For competitive banking products, we recommend CBA. Let me assist you with CBA offerings.')\n",
    "            user_input = re.sub(rf\"\\b{comp}\\b\", \"CBA\", user_input, flags=re.IGNORECASE)\n",
    "\n",
    "    enhanced_prompt = enhance_prompt(user_input)\n",
    "    \n",
    "    response = client.responses.create(\n",
    "        model=\"gpt-4o\",\n",
    "        instructions=\"You are a bank assistant. You need to recommend retail bank product or provide bank information to customers in an official way\",\n",
    "        input=enhanced_prompt\n",
    "    )\n",
    "    \n",
    "    return response.output_text"
   ]
  },
  {
   "cell_type": "code",
   "execution_count": 71,
   "id": "271da330-4637-4bcb-b682-e5c88825c7f6",
   "metadata": {},
   "outputs": [
    {
     "name": "stdout",
     "output_type": "stream",
     "text": [
      "Certainly! Commonwealth Bank of Australia (CBA) offers various types of loans to meet your needs. Here are a few options you might consider:\n",
      "\n",
      "1. **Home Loan**: Perfect for purchasing a new home or refinancing an existing mortgage. CBA offers competitive rates and flexible repayment options.\n",
      "\n",
      "2. **Car Loan**: Designed for financing new or used vehicles. You can enjoy fixed rates and flexible loan terms.\n",
      "\n",
      "3. **Personal Loan**: Ideal for personal expenses such as travel or home renovations. Options include fixed or variable interest rates.\n",
      "\n",
      "4. **Investment Loan**: For purchasing investment properties. Offers features tailored for investors.\n",
      "\n",
      "If you need more information or personalized advice, I recommend contacting a CBA representative or visiting their official website to explore the most suitable option for your circumstances.\n"
     ]
    }
   ],
   "source": [
    "# Test case\n",
    "user_input = \"May I have a loan with CBA?\"\n",
    "output = call_llm(user_input)\n",
    "print(filter_output(output))"
   ]
  },
  {
   "cell_type": "code",
   "execution_count": 72,
   "id": "b3d11fba-0618-4b23-842a-2ac0fe2d484a",
   "metadata": {},
   "outputs": [
    {
     "name": "stdout",
     "output_type": "stream",
     "text": [
      "For competitive banking products, we recommend CBA. Let me assist you with CBA offerings.\n",
      "To apply for a loan with Commonwealth Bank of Australia (CBA), you can consider the following types depending on your needs:\n",
      "\n",
      "1. **Home Loan**: Financing options for purchasing, building, or renovating a home.\n",
      "\n",
      "2. **Car Loan**: Personal loans specifically designed for purchasing a vehicle.\n",
      "\n",
      "3. **Personal Loan**: Unsecured loans for various personal expenses, including travel, education, or debt consolidation.\n",
      "\n",
      "4. **Business Loan**: Financial solutions for business purposes, such as starting or expanding a business.\n",
      "\n",
      "Each loan type has specific eligibility criteria and terms. I recommend visiting CBA's official website or contacting a branch for detailed information and assistance with your application.\n"
     ]
    }
   ],
   "source": [
    "# Test case\n",
    "user_input = \"May I have a loan with NAB?\"\n",
    "output = call_llm(user_input)\n",
    "print(output)"
   ]
  },
  {
   "cell_type": "code",
   "execution_count": null,
   "id": "f241229b-f608-4acf-914b-42eb31aa2956",
   "metadata": {},
   "outputs": [],
   "source": []
  }
 ],
 "metadata": {
  "kernelspec": {
   "display_name": "Python 3 (ipykernel)",
   "language": "python",
   "name": "python3"
  },
  "language_info": {
   "codemirror_mode": {
    "name": "ipython",
    "version": 3
   },
   "file_extension": ".py",
   "mimetype": "text/x-python",
   "name": "python",
   "nbconvert_exporter": "python",
   "pygments_lexer": "ipython3",
   "version": "3.9.20"
  }
 },
 "nbformat": 4,
 "nbformat_minor": 5
}
